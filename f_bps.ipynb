{
 "cells": [
  {
   "cell_type": "markdown",
   "metadata": {},
   "source": [
    "# Automatización de reportes de payroll"
   ]
  },
  {
   "cell_type": "markdown",
   "metadata": {},
   "source": [
    "Todas las empresas uruguayas deben remitir mensualmente la información de los salarios pagados al Banco de Previsión Social (BPS). Ésto se realiza a través de un formato y una codificación específica, y por lo general es cumplimentado por estudios tercerizados o un departamento especializado dentro de la empresa.\n",
    "\n",
    "Nuestra intención con este desarrollo es lograr automatizar un reporting independiente de los estudios o de los departamentos especializados. Algunos aspectos que nos motivan son:\n",
    "* Uniformidad: Ya que todas las declaraciones nominadas para industria y comercio comparten formato y codificación, este desarrollo puede ser aplicado en cualquiera de ellas independientemente de su estructura informática, el software utilizado o la calidad de sus archivos.\n",
    "* Eficiencia: Los equipos de RH, payroll o similares suelen tener que compilar información y estructurarla a las necesidades de análisis de las gerencias, cuando no están especializados en ello.\n",
    "* Control: Para los casos en los que ya se cuente con procedimientos de reporting, este proceso automático le puede devolver algunos datos sobre cuales controlar si las retribuciones al personal y contribuciones a la seguridad social se han realizado y registrado de forma correcta."
   ]
  },
  {
   "cell_type": "code",
   "execution_count": 1,
   "metadata": {},
   "outputs": [],
   "source": [
    "# Importamos los paquetes necesarios para nuestro desarrollo\n",
    "\n",
    "import matplotlib.pyplot as plt\n",
    "import numpy as np\n",
    "import pandas as pd\n",
    "import io\n",
    "from urllib.request import urlopen"
   ]
  },
  {
   "cell_type": "markdown",
   "metadata": {},
   "source": [
    "Definimos la ruta de los archivos a importar y definimos una lista \"nóminas\" que contenga cada archivo. En este caso lo hacemos para un trimestre, pero puede ser para cualquier otra cantidad de meses."
   ]
  },
  {
   "cell_type": "code",
   "execution_count": 2,
   "metadata": {},
   "outputs": [],
   "source": [
    "n_enero = \"https://raw.githubusercontent.com/GregorioMorena/BPS_Reporting/main/N_1_7301273_202001.txt\"\n",
    "n_febrero = \"https://raw.githubusercontent.com/GregorioMorena/BPS_Reporting/main/N_1_7301273_202002.txt\"\n",
    "n_marzo = \"https://raw.githubusercontent.com/GregorioMorena/BPS_Reporting/main/N_1_7301273_202003.txt\"\n",
    "\n",
    "nominas = [n_enero, n_febrero, n_marzo]\n"
   ]
  },
  {
   "cell_type": "markdown",
   "metadata": {},
   "source": [
    "Los archivos del BPS cuentan con un formato preestablecido pero no puede ser importado directamente por Pandas sin un proceso previo dado que el archivo no cuenta con un número de separadores fijos para cada línea.\n",
    "Lo modificaremos de forma tal de que sea legible para el módulo pandas. Para ello definiremos la función f_bps"
   ]
  },
  {
   "cell_type": "code",
   "execution_count": 3,
   "metadata": {},
   "outputs": [],
   "source": [
    "# Modificar el archivo txt de atyro para insertar un encabezado que tenga la misma cantidad\n",
    "# de separadores que el máximo encontrado en el resto de las filas\n",
    "def f_bps(path, delimiter='|'):\n",
    "    \n",
    "    datos = ''\n",
    "    max_cols = 0\n",
    "    \n",
    "    with urlopen(path) as file:\n",
    "        for line in file:\n",
    "            datos = (datos + line.decode(\"utf-8\"))\n",
    "            col_count = line.decode(\"utf-8\").count(delimiter)\n",
    "            if col_count > max_cols:\n",
    "                max_cols = col_count\n",
    "            \n",
    "    \n",
    "    encabezado = delimiter * max_cols + '\\n'\n",
    "    \n",
    "    return io.StringIO(encabezado + datos)"
   ]
  },
  {
   "cell_type": "markdown",
   "metadata": {},
   "source": [
    "Con la función definida, recorremos la lista de archivos para concatenar cada archivo en un único dataframe."
   ]
  },
  {
   "cell_type": "code",
   "execution_count": 4,
   "metadata": {},
   "outputs": [],
   "source": [
    "importacion = pd.DataFrame()\n",
    "for i in nominas:    \n",
    "    importacion = pd.concat([importacion, pd.read_csv(f_bps(i), delimiter='|')], ignore_index=True)"
   ]
  },
  {
   "cell_type": "markdown",
   "metadata": {},
   "source": [
    "Y el resultado es el siguiente dataframe"
   ]
  },
  {
   "cell_type": "code",
   "execution_count": 5,
   "metadata": {},
   "outputs": [
    {
     "data": {
      "text/html": [
       "<div>\n",
       "<style scoped>\n",
       "    .dataframe tbody tr th:only-of-type {\n",
       "        vertical-align: middle;\n",
       "    }\n",
       "\n",
       "    .dataframe tbody tr th {\n",
       "        vertical-align: top;\n",
       "    }\n",
       "\n",
       "    .dataframe thead th {\n",
       "        text-align: right;\n",
       "    }\n",
       "</style>\n",
       "<table border=\"1\" class=\"dataframe\">\n",
       "  <thead>\n",
       "    <tr style=\"text-align: right;\">\n",
       "      <th></th>\n",
       "      <th>Unnamed: 0</th>\n",
       "      <th>Unnamed: 1</th>\n",
       "      <th>Unnamed: 2</th>\n",
       "      <th>Unnamed: 3</th>\n",
       "      <th>Unnamed: 4</th>\n",
       "      <th>Unnamed: 5</th>\n",
       "      <th>Unnamed: 6</th>\n",
       "      <th>Unnamed: 7</th>\n",
       "      <th>Unnamed: 8</th>\n",
       "      <th>Unnamed: 9</th>\n",
       "      <th>Unnamed: 10</th>\n",
       "      <th>Unnamed: 11</th>\n",
       "      <th>Unnamed: 12</th>\n",
       "      <th>Unnamed: 13</th>\n",
       "      <th>Unnamed: 14</th>\n",
       "      <th>Unnamed: 15</th>\n",
       "      <th>Unnamed: 16</th>\n",
       "      <th>Unnamed: 17</th>\n",
       "      <th>Unnamed: 18</th>\n",
       "      <th>Unnamed: 19</th>\n",
       "    </tr>\n",
       "  </thead>\n",
       "  <tbody>\n",
       "    <tr>\n",
       "      <th>0</th>\n",
       "      <td>1</td>\n",
       "      <td>N</td>\n",
       "      <td>3.1</td>\n",
       "      <td>Atyro 3.2.39</td>\n",
       "      <td>0000003721037</td>\n",
       "      <td>00214314640010</td>\n",
       "      <td>1</td>\n",
       "      <td>CONSTRUCTION SRL</td>\n",
       "      <td>MONTEVIDEO</td>\n",
       "      <td>0800 2001</td>\n",
       "      <td>NaN</td>\n",
       "      <td>NaN</td>\n",
       "      <td>NaN</td>\n",
       "      <td>NaN</td>\n",
       "      <td>NaN</td>\n",
       "      <td>NaN</td>\n",
       "      <td>NaN</td>\n",
       "      <td>NaN</td>\n",
       "      <td>NaN</td>\n",
       "      <td>NaN</td>\n",
       "    </tr>\n",
       "    <tr>\n",
       "      <th>1</th>\n",
       "      <td>4</td>\n",
       "      <td>012019</td>\n",
       "      <td>1</td>\n",
       "      <td>46993426</td>\n",
       "      <td>NaN</td>\n",
       "      <td>NaN</td>\n",
       "      <td>NaN</td>\n",
       "      <td>NaN</td>\n",
       "      <td>NaN</td>\n",
       "      <td>NaN</td>\n",
       "      <td>NaN</td>\n",
       "      <td>NaN</td>\n",
       "      <td>NaN</td>\n",
       "      <td>NaN</td>\n",
       "      <td>NaN</td>\n",
       "      <td>NaN</td>\n",
       "      <td>NaN</td>\n",
       "      <td>NaN</td>\n",
       "      <td>NaN</td>\n",
       "      <td>NaN</td>\n",
       "    </tr>\n",
       "    <tr>\n",
       "      <th>2</th>\n",
       "      <td>5</td>\n",
       "      <td>1</td>\n",
       "      <td>DO</td>\n",
       "      <td>2161a684</td>\n",
       "      <td>Lucero</td>\n",
       "      <td>Soto</td>\n",
       "      <td>Antonio</td>\n",
       "      <td>Alberto</td>\n",
       "      <td>27654</td>\n",
       "      <td>1</td>\n",
       "      <td>1.0</td>\n",
       "      <td>NaN</td>\n",
       "      <td>NaN</td>\n",
       "      <td>NaN</td>\n",
       "      <td>NaN</td>\n",
       "      <td>NaN</td>\n",
       "      <td>NaN</td>\n",
       "      <td>NaN</td>\n",
       "      <td>NaN</td>\n",
       "      <td>NaN</td>\n",
       "    </tr>\n",
       "    <tr>\n",
       "      <th>3</th>\n",
       "      <td>6</td>\n",
       "      <td>NaN</td>\n",
       "      <td>1</td>\n",
       "      <td>DO</td>\n",
       "      <td>2161a684</td>\n",
       "      <td>1</td>\n",
       "      <td>40179</td>\n",
       "      <td>1</td>\n",
       "      <td>48</td>\n",
       "      <td>12</td>\n",
       "      <td>9.0</td>\n",
       "      <td>99.0</td>\n",
       "      <td>NaN</td>\n",
       "      <td>NaN</td>\n",
       "      <td>N</td>\n",
       "      <td>30.0</td>\n",
       "      <td>0.0</td>\n",
       "      <td>1.0</td>\n",
       "      <td>NaN</td>\n",
       "      <td>NaN</td>\n",
       "    </tr>\n",
       "    <tr>\n",
       "      <th>4</th>\n",
       "      <td>7</td>\n",
       "      <td>NaN</td>\n",
       "      <td>1</td>\n",
       "      <td>DO</td>\n",
       "      <td>2161a684</td>\n",
       "      <td>1</td>\n",
       "      <td>1</td>\n",
       "      <td>78163.00</td>\n",
       "      <td>NaN</td>\n",
       "      <td>NaN</td>\n",
       "      <td>NaN</td>\n",
       "      <td>NaN</td>\n",
       "      <td>NaN</td>\n",
       "      <td>NaN</td>\n",
       "      <td>NaN</td>\n",
       "      <td>NaN</td>\n",
       "      <td>NaN</td>\n",
       "      <td>NaN</td>\n",
       "      <td>NaN</td>\n",
       "      <td>NaN</td>\n",
       "    </tr>\n",
       "  </tbody>\n",
       "</table>\n",
       "</div>"
      ],
      "text/plain": [
       "   Unnamed: 0 Unnamed: 1 Unnamed: 2    Unnamed: 3      Unnamed: 4  \\\n",
       "0           1          N        3.1  Atyro 3.2.39   0000003721037   \n",
       "1           4     012019          1      46993426             NaN   \n",
       "2           5          1         DO      2161a684          Lucero   \n",
       "3           6        NaN          1            DO        2161a684   \n",
       "4           7        NaN          1            DO        2161a684   \n",
       "\n",
       "       Unnamed: 5 Unnamed: 6        Unnamed: 7  Unnamed: 8 Unnamed: 9  \\\n",
       "0  00214314640010          1  CONSTRUCTION SRL  MONTEVIDEO  0800 2001   \n",
       "1             NaN        NaN               NaN         NaN        NaN   \n",
       "2            Soto    Antonio           Alberto       27654          1   \n",
       "3               1      40179                 1          48         12   \n",
       "4               1          1          78163.00         NaN        NaN   \n",
       "\n",
       "   Unnamed: 10  Unnamed: 11  Unnamed: 12  Unnamed: 13 Unnamed: 14  \\\n",
       "0          NaN          NaN          NaN          NaN         NaN   \n",
       "1          NaN          NaN          NaN          NaN         NaN   \n",
       "2          1.0          NaN          NaN          NaN         NaN   \n",
       "3          9.0         99.0          NaN          NaN           N   \n",
       "4          NaN          NaN          NaN          NaN         NaN   \n",
       "\n",
       "   Unnamed: 15  Unnamed: 16  Unnamed: 17  Unnamed: 18  Unnamed: 19  \n",
       "0          NaN          NaN          NaN          NaN          NaN  \n",
       "1          NaN          NaN          NaN          NaN          NaN  \n",
       "2          NaN          NaN          NaN          NaN          NaN  \n",
       "3         30.0          0.0          1.0          NaN          NaN  \n",
       "4          NaN          NaN          NaN          NaN          NaN  "
      ]
     },
     "execution_count": 5,
     "metadata": {},
     "output_type": "execute_result"
    }
   ],
   "source": [
    "importacion.head()"
   ]
  },
  {
   "cell_type": "markdown",
   "metadata": {},
   "source": [
    "La información sigue sin ser legible, pero ahora podemos manipularlacon Pandas.\n",
    "Gracias a que conocemos la forma en que se ordena y codifican los archivos de BPS, podemos analizar dónde está la información relevante a extraer."
   ]
  },
  {
   "attachments": {
    "Captura.PNG": {
     "image/png": "[encoded data removed]"
    }
   },
   "cell_type": "markdown",
   "metadata": {},
   "source": [
    "![Captura.PNG](attachment:Captura.PNG)"
   ]
  },
  {
   "cell_type": "markdown",
   "metadata": {},
   "source": [
    "Definimos un dataframe vacío al cual le vamos a ir agregando sólamente las columnas relevantes de la información importada. La primer columna relevante es aquella que contiene el mes de cargo."
   ]
  },
  {
   "cell_type": "code",
   "execution_count": 6,
   "metadata": {},
   "outputs": [],
   "source": [
    "# DataFrame vacío\n",
    "tabla_bruta= pd.DataFrame()\n",
    "\n",
    "\"\"\"Creamos una lista donde indiquemos qué tipo de registro hay en cada fila\"\"\"\n",
    "registro = importacion.iloc[:,0].tolist()\n",
    "\n",
    "\"\"\" Para crear la fila que indique el mes de cargo, necesitamos extraer sólamente el segundo\n",
    "dato de los registros con número 4 y continuar usando ese dato en las siguientes filas\"\"\"\n",
    "mes = []\n",
    "\n",
    "for num in range(len(registro)):\n",
    "    if registro[num] == 4:\n",
    "        mes = mes + [importacion.iloc[num,1]]\n",
    "    else:\n",
    "        mes = mes + [np.nan]\n",
    "\n",
    "tabla_bruta['mes'] = mes\n",
    "tabla_bruta['mes'] = tabla_bruta['mes'].fillna(method='ffill')"
   ]
  },
  {
   "cell_type": "markdown",
   "metadata": {},
   "source": [
    "Continuamos extrayendo columnas con información relevante. El tipo de registro, el documento de identidad, el concepto abonado y el importe correspondiente a ese concepto. Por último, con algo más de dificultad, agregamos la cantidad de días trabajados (según el criterio de la seguridad social) para ese mes en concreto."
   ]
  },
  {
   "cell_type": "code",
   "execution_count": 7,
   "metadata": {},
   "outputs": [
    {
     "data": {
      "text/html": [
       "<div>\n",
       "<style scoped>\n",
       "    .dataframe tbody tr th:only-of-type {\n",
       "        vertical-align: middle;\n",
       "    }\n",
       "\n",
       "    .dataframe tbody tr th {\n",
       "        vertical-align: top;\n",
       "    }\n",
       "\n",
       "    .dataframe thead th {\n",
       "        text-align: right;\n",
       "    }\n",
       "</style>\n",
       "<table border=\"1\" class=\"dataframe\">\n",
       "  <thead>\n",
       "    <tr style=\"text-align: right;\">\n",
       "      <th></th>\n",
       "      <th>mes</th>\n",
       "      <th>tipo_registro</th>\n",
       "      <th>documento</th>\n",
       "      <th>concepto</th>\n",
       "      <th>importe</th>\n",
       "      <th>dt</th>\n",
       "    </tr>\n",
       "  </thead>\n",
       "  <tbody>\n",
       "    <tr>\n",
       "      <th>0</th>\n",
       "      <td>NaN</td>\n",
       "      <td>1</td>\n",
       "      <td>0000003721037</td>\n",
       "      <td>1</td>\n",
       "      <td>CONSTRUCTION SRL</td>\n",
       "      <td>NaN</td>\n",
       "    </tr>\n",
       "    <tr>\n",
       "      <th>1</th>\n",
       "      <td>012019</td>\n",
       "      <td>4</td>\n",
       "      <td>NaN</td>\n",
       "      <td>NaN</td>\n",
       "      <td>NaN</td>\n",
       "      <td>NaN</td>\n",
       "    </tr>\n",
       "    <tr>\n",
       "      <th>2</th>\n",
       "      <td>012019</td>\n",
       "      <td>5</td>\n",
       "      <td>Lucero</td>\n",
       "      <td>Antonio</td>\n",
       "      <td>Alberto</td>\n",
       "      <td>NaN</td>\n",
       "    </tr>\n",
       "    <tr>\n",
       "      <th>3</th>\n",
       "      <td>012019</td>\n",
       "      <td>6</td>\n",
       "      <td>2161a684</td>\n",
       "      <td>40179</td>\n",
       "      <td>1</td>\n",
       "      <td>30.0</td>\n",
       "    </tr>\n",
       "    <tr>\n",
       "      <th>4</th>\n",
       "      <td>012019</td>\n",
       "      <td>7</td>\n",
       "      <td>2161a684</td>\n",
       "      <td>1</td>\n",
       "      <td>78163.00</td>\n",
       "      <td>30.0</td>\n",
       "    </tr>\n",
       "  </tbody>\n",
       "</table>\n",
       "</div>"
      ],
      "text/plain": [
       "      mes  tipo_registro       documento concepto           importe    dt\n",
       "0     NaN              1   0000003721037        1  CONSTRUCTION SRL   NaN\n",
       "1  012019              4             NaN      NaN               NaN   NaN\n",
       "2  012019              5          Lucero  Antonio           Alberto   NaN\n",
       "3  012019              6        2161a684    40179                 1  30.0\n",
       "4  012019              7        2161a684        1          78163.00  30.0"
      ]
     },
     "execution_count": 7,
     "metadata": {},
     "output_type": "execute_result"
    }
   ],
   "source": [
    "# Extracción de columnas con datos relevantes\n",
    "tabla_bruta['tipo_registro'] = importacion.iloc[:,0]\n",
    "tabla_bruta['documento'] = importacion.iloc[:,4]\n",
    "tabla_bruta['concepto'] = importacion.iloc[:,6]\n",
    "tabla_bruta['importe'] = importacion.iloc[:,7]\n",
    "\n",
    "# Extracción de la columna que contiene los días trabajados para ese mes. \n",
    "tabla_bruta['dt'] = importacion.iloc[:,15]\n",
    "tabla_bruta['dt'] = tabla_bruta['dt'].fillna(method='ffill')\n",
    "\n",
    "# Veamos las primeras líneas de nuestra tabla\n",
    "tabla_bruta.head()"
   ]
  },
  {
   "cell_type": "markdown",
   "metadata": {},
   "source": [
    "Por la forma en la que armamos la tabla anterior, alcanza con filtrar todas las observaciones con \"tipo_registro\" 7."
   ]
  },
  {
   "cell_type": "code",
   "execution_count": 8,
   "metadata": {},
   "outputs": [
    {
     "data": {
      "text/html": [
       "<div>\n",
       "<style scoped>\n",
       "    .dataframe tbody tr th:only-of-type {\n",
       "        vertical-align: middle;\n",
       "    }\n",
       "\n",
       "    .dataframe tbody tr th {\n",
       "        vertical-align: top;\n",
       "    }\n",
       "\n",
       "    .dataframe thead th {\n",
       "        text-align: right;\n",
       "    }\n",
       "</style>\n",
       "<table border=\"1\" class=\"dataframe\">\n",
       "  <thead>\n",
       "    <tr style=\"text-align: right;\">\n",
       "      <th></th>\n",
       "      <th>mes</th>\n",
       "      <th>documento</th>\n",
       "      <th>dt</th>\n",
       "      <th>concepto</th>\n",
       "      <th>importe</th>\n",
       "    </tr>\n",
       "  </thead>\n",
       "  <tbody>\n",
       "    <tr>\n",
       "      <th>4</th>\n",
       "      <td>012019</td>\n",
       "      <td>2161a684</td>\n",
       "      <td>30</td>\n",
       "      <td>1</td>\n",
       "      <td>78163.0</td>\n",
       "    </tr>\n",
       "    <tr>\n",
       "      <th>7</th>\n",
       "      <td>012019</td>\n",
       "      <td>296b808</td>\n",
       "      <td>30</td>\n",
       "      <td>1</td>\n",
       "      <td>74161.0</td>\n",
       "    </tr>\n",
       "    <tr>\n",
       "      <th>10</th>\n",
       "      <td>012019</td>\n",
       "      <td>4436a142</td>\n",
       "      <td>30</td>\n",
       "      <td>1</td>\n",
       "      <td>60042.0</td>\n",
       "    </tr>\n",
       "    <tr>\n",
       "      <th>11</th>\n",
       "      <td>012019</td>\n",
       "      <td>4436a142</td>\n",
       "      <td>30</td>\n",
       "      <td>7</td>\n",
       "      <td>1950.0</td>\n",
       "    </tr>\n",
       "    <tr>\n",
       "      <th>14</th>\n",
       "      <td>012019</td>\n",
       "      <td>193e706</td>\n",
       "      <td>30</td>\n",
       "      <td>1</td>\n",
       "      <td>77617.0</td>\n",
       "    </tr>\n",
       "  </tbody>\n",
       "</table>\n",
       "</div>"
      ],
      "text/plain": [
       "       mes documento  dt concepto  importe\n",
       "4   012019  2161a684  30        1  78163.0\n",
       "7   012019   296b808  30        1  74161.0\n",
       "10  012019  4436a142  30        1  60042.0\n",
       "11  012019  4436a142  30        7   1950.0\n",
       "14  012019   193e706  30        1  77617.0"
      ]
     },
     "execution_count": 8,
     "metadata": {},
     "output_type": "execute_result"
    }
   ],
   "source": [
    "# Creamos una tabla que sólo contenga los tipo_registro = 7\n",
    "# y le damos un formato adecuado a los importes (importe) y a los días trabajados (dt)\n",
    "\n",
    "tabla_final = tabla_bruta[tabla_bruta['tipo_registro'] == 7][['mes', 'documento', 'dt', 'concepto', 'importe']]\n",
    "tabla_final = tabla_final.astype({'importe': float,\n",
    "                                  'dt': int})\n",
    "\n",
    "# Visualizamos las primeras lineas de nuestra tabla final\n",
    "tabla_final.head()"
   ]
  },
  {
   "cell_type": "markdown",
   "metadata": {},
   "source": [
    "A modo de verificación, tomamos la suma de los importes totales indicado en cada nómina original y lo comparamos con el total de nuestra tabla."
   ]
  },
  {
   "cell_type": "code",
   "execution_count": 9,
   "metadata": {},
   "outputs": [
    {
     "data": {
      "text/plain": [
       "'La importación se realizó correctamente'"
      ]
     },
     "execution_count": 9,
     "metadata": {},
     "output_type": "execute_result"
    }
   ],
   "source": [
    "# Seleccionamos los importes totalizados de los archivos importados y los sumamos\n",
    "suma_original = pd.to_numeric(importacion[importacion.iloc[:,0] == 4].iloc[:,3]).sum()\n",
    "\n",
    "# Sumamos el total de retribuciones según nuestra tabla final\n",
    "suma_final = tabla_final['importe'].sum()\n",
    "\n",
    "# Verificamos si son iguales\n",
    "verificacion = suma_original - suma_final\n",
    "\n",
    "if verificacion == 0:\n",
    "    result = 'La importación se realizó correctamente'\n",
    "else:\n",
    "    result = 'Error en la imporacion. Diferencia de $U' + str(verificacion)\n",
    "\n",
    "result"
   ]
  },
  {
   "cell_type": "markdown",
   "metadata": {},
   "source": [
    "# Un reporte rápido con la información importada\n",
    "\n",
    "Una vez realizada la importación de los archivos y la limpieza de la información, podemos diseñar reportes de mayor o menor complejidad. A modo de ejemplo, chequearemos la cantidad de jornales y los importes pagados del primer trimestre."
   ]
  },
  {
   "cell_type": "code",
   "execution_count": 10,
   "metadata": {},
   "outputs": [
    {
     "data": {
      "text/html": [
       "<div>\n",
       "<style scoped>\n",
       "    .dataframe tbody tr th:only-of-type {\n",
       "        vertical-align: middle;\n",
       "    }\n",
       "\n",
       "    .dataframe tbody tr th {\n",
       "        vertical-align: top;\n",
       "    }\n",
       "\n",
       "    .dataframe thead th {\n",
       "        text-align: right;\n",
       "    }\n",
       "</style>\n",
       "<table border=\"1\" class=\"dataframe\">\n",
       "  <thead>\n",
       "    <tr style=\"text-align: right;\">\n",
       "      <th></th>\n",
       "      <th>dt</th>\n",
       "      <th>importe</th>\n",
       "    </tr>\n",
       "    <tr>\n",
       "      <th>mes</th>\n",
       "      <th></th>\n",
       "      <th></th>\n",
       "    </tr>\n",
       "  </thead>\n",
       "  <tbody>\n",
       "    <tr>\n",
       "      <th>012019</th>\n",
       "      <td>42799</td>\n",
       "      <td>46993426.0</td>\n",
       "    </tr>\n",
       "    <tr>\n",
       "      <th>022019</th>\n",
       "      <td>43878</td>\n",
       "      <td>47122667.0</td>\n",
       "    </tr>\n",
       "    <tr>\n",
       "      <th>032019</th>\n",
       "      <td>66420</td>\n",
       "      <td>57752267.0</td>\n",
       "    </tr>\n",
       "  </tbody>\n",
       "</table>\n",
       "</div>"
      ],
      "text/plain": [
       "           dt     importe\n",
       "mes                      \n",
       "012019  42799  46993426.0\n",
       "022019  43878  47122667.0\n",
       "032019  66420  57752267.0"
      ]
     },
     "execution_count": 10,
     "metadata": {},
     "output_type": "execute_result"
    }
   ],
   "source": [
    "informe = pd.pivot_table(tabla_final, values=['dt', 'importe'], index=['mes'], aggfunc=np.sum)\n",
    "informe"
   ]
  },
  {
   "cell_type": "code",
   "execution_count": 11,
   "metadata": {},
   "outputs": [
    {
     "data": {
      "image/png": "[encoded data removed]",
      "text/plain": [
       "<Figure size 432x288 with 1 Axes>"
      ]
     },
     "metadata": {
      "needs_background": "light"
     },
     "output_type": "display_data"
    },
    {
     "data": {
      "image/png": "[encoded data removed]",
      "text/plain": [
       "<Figure size 432x288 with 1 Axes>"
      ]
     },
     "metadata": {
      "needs_background": "light"
     },
     "output_type": "display_data"
    }
   ],
   "source": [
    "informe.plot(y='dt', kind='bar').set_title('Jornales Pagados por Mes')\n",
    "informe.plot(y='importe', kind='bar').set_title('Total de Remuneraciones')\n",
    "plt.show()"
   ]
  },
  {
   "cell_type": "markdown",
   "metadata": {},
   "source": [
    "# Conclusiones\n",
    "\n",
    "Hemos desarrollado una forma sencilla de automatizar un análisis de los costos del personal basados sólamente en la información contenida en la seguridad social uruguaya (BPS). Desde aquí podríamos extraer incluso más información como pueden ser vacaciones, rotación, impuestos, cargas sociales, etc.\n",
    "\n",
    "Para agregar más valor a este desarrollo, se podría sugerir agregar información de otras fuentes como pueden ser:\n",
    "* Planilla de Trabajo: Nos daría información sobre salario pactado de cada persona, el horario, los descansos y la forma de retribución.\n",
    "* Convenios colectivos: En los convenios y sus sucesivas actas se detallan aumentos, partidas varias e información variada que podría resultar útil según el análisis deseado.\n",
    "* Información ya existente en la empresa: Cualquier registro sobre el personal o cualquier otro aspecto que se quiera agregar a los reportes como por ejemplo: marcas de entrada y salida, rentabilidad por producto, cantidad de ventas por sucursal, etc.\n",
    "\n",
    "¡Gracias por interesarte por mi proyecto! Ante cualquier duda, puedes contactarme:\n",
    "\n",
    "https://www.linkedin.com/in/gregoriomorena/\n",
    "\n",
    "https://twitter.com/GregorioMP1985\n"
   ]
  }
 ],
 "metadata": {
  "kernelspec": {
   "display_name": "Python 3",
   "language": "python",
   "name": "python3"
  },
  "language_info": {
   "codemirror_mode": {
    "name": "ipython",
    "version": 3
   },
   "file_extension": ".py",
   "mimetype": "text/x-python",
   "name": "python",
   "nbconvert_exporter": "python",
   "pygments_lexer": "ipython3",
   "version": "3.7.6"
  }
 },
 "nbformat": 4,
 "nbformat_minor": 4
}
